{
 "cells": [
  {
   "cell_type": "markdown",
   "id": "premier-milan",
   "metadata": {},
   "source": [
    "# Predicting Home Values\n"
   ]
  },
  {
   "cell_type": "markdown",
   "id": "04afb41e",
   "metadata": {},
   "source": [
    "# Goals\n",
    "* Discover drivers that have a string relationship to predict values.\n",
    "* Use drivers to develop a machine learning model to make accurate predictions. \n",
    "* Home values will be compared to actual home values. \n",
    "* This information could be used to better understand changing markets."
   ]
  },
  {
   "cell_type": "markdown",
   "id": "going-assembly",
   "metadata": {},
   "source": [
    "## Imports"
   ]
  },
  {
   "cell_type": "code",
   "execution_count": 1,
   "id": "divided-poster",
   "metadata": {},
   "outputs": [],
   "source": [
    "# importing the necessary libraries to run the code\n",
    "from env import get_db_url\n",
    "from wrangle import wrangle_telco_data, split_telco_data\n",
    "import seaborn as sns\n",
    "import matplotlib.pyplot as plt\n",
    "import pandas as pd\n",
    "import scipy.stats as stats\n",
    "\n",
    "\n",
    "from explore import dsl_v_churn, contract_type_v_churn, payment_v_churn\n",
    "from explore import monthly_v_churn, hyp_month_v_churn, t_test_monthly_churn, chi2_payment_churn\n",
    "\n",
    "from modeling import model_prep_data, model_decision_tree, model_knn\n",
    "from modeling import model_random_forest, model_log, model_knn_test\n",
    "\n",
    "import warnings\n",
    "warnings.filterwarnings(\"ignore\")"
   ]
  },
  {
   "cell_type": "markdown",
   "id": "criminal-glory",
   "metadata": {},
   "source": [
    "## Acquire\n",
    "\n",
    "* Aquired the data from CodeUp database\n",
    "* Data size ---- rows and --- columns.\n",
    "* Each obsevation represent the sale of a property\n",
    "* Each column reperesents a feature or data point of that sale"
   ]
  },
  {
   "cell_type": "markdown",
   "id": "impossible-bible",
   "metadata": {},
   "source": [
    "## Prepare\n",
    "\n",
    "* Removed columns that did not contain useful information\n",
    "* Checked for nulls in the data \n",
    "* Checked that column data types were appropriate\n",
    "* Split data into train, validate and test (approx. --/--/--)\n",
    "* Outliers have not been removed for this iteration of the project"
   ]
  },
  {
   "cell_type": "code",
   "execution_count": 2,
   "id": "186b2dfe",
   "metadata": {},
   "outputs": [],
   "source": [
    "# used my wrangle function that acquires, preps and cleans the data\n",
    "df = wrangle_telco_data()\n",
    "\n",
    "# splits data train, validate, test\n",
    "train, validate, test = split_telco_data(df)"
   ]
  },
  {
   "cell_type": "markdown",
   "id": "0d9f6680",
   "metadata": {},
   "source": [
    "# Data At a Glance"
   ]
  },
  {
   "cell_type": "code",
   "execution_count": 3,
   "id": "2455066e",
   "metadata": {
    "scrolled": true
   },
   "outputs": [
    {
     "data": {
      "text/html": [
       "<div>\n",
       "<style scoped>\n",
       "    .dataframe tbody tr th:only-of-type {\n",
       "        vertical-align: middle;\n",
       "    }\n",
       "\n",
       "    .dataframe tbody tr th {\n",
       "        vertical-align: top;\n",
       "    }\n",
       "\n",
       "    .dataframe thead th {\n",
       "        text-align: right;\n",
       "    }\n",
       "</style>\n",
       "<table border=\"1\" class=\"dataframe\">\n",
       "  <thead>\n",
       "    <tr style=\"text-align: right;\">\n",
       "      <th></th>\n",
       "      <th>customer_id</th>\n",
       "      <th>gender</th>\n",
       "      <th>senior_citizen</th>\n",
       "      <th>partner</th>\n",
       "      <th>dependents</th>\n",
       "      <th>tenure</th>\n",
       "      <th>phone_service</th>\n",
       "      <th>multiple_lines</th>\n",
       "      <th>online_security</th>\n",
       "      <th>online_backup</th>\n",
       "      <th>...</th>\n",
       "      <th>streaming_movies_Yes</th>\n",
       "      <th>paperless_billing_Yes</th>\n",
       "      <th>churn_Yes</th>\n",
       "      <th>contract_type_One year</th>\n",
       "      <th>contract_type_Two year</th>\n",
       "      <th>internet_service_type_Fiber optic</th>\n",
       "      <th>internet_service_type_None</th>\n",
       "      <th>payment_type_Credit card (automatic)</th>\n",
       "      <th>payment_type_Electronic check</th>\n",
       "      <th>payment_type_Mailed check</th>\n",
       "    </tr>\n",
       "  </thead>\n",
       "  <tbody>\n",
       "    <tr>\n",
       "      <th>5911</th>\n",
       "      <td>8319-QBEHW</td>\n",
       "      <td>Male</td>\n",
       "      <td>0</td>\n",
       "      <td>No</td>\n",
       "      <td>Yes</td>\n",
       "      <td>26</td>\n",
       "      <td>No</td>\n",
       "      <td>No phone service</td>\n",
       "      <td>No</td>\n",
       "      <td>Yes</td>\n",
       "      <td>...</td>\n",
       "      <td>0</td>\n",
       "      <td>1</td>\n",
       "      <td>0</td>\n",
       "      <td>1</td>\n",
       "      <td>0</td>\n",
       "      <td>0</td>\n",
       "      <td>0</td>\n",
       "      <td>0</td>\n",
       "      <td>0</td>\n",
       "      <td>0</td>\n",
       "    </tr>\n",
       "    <tr>\n",
       "      <th>2479</th>\n",
       "      <td>3547-LQRIK</td>\n",
       "      <td>Female</td>\n",
       "      <td>0</td>\n",
       "      <td>Yes</td>\n",
       "      <td>No</td>\n",
       "      <td>47</td>\n",
       "      <td>Yes</td>\n",
       "      <td>Yes</td>\n",
       "      <td>No internet service</td>\n",
       "      <td>No internet service</td>\n",
       "      <td>...</td>\n",
       "      <td>0</td>\n",
       "      <td>0</td>\n",
       "      <td>0</td>\n",
       "      <td>1</td>\n",
       "      <td>0</td>\n",
       "      <td>0</td>\n",
       "      <td>1</td>\n",
       "      <td>0</td>\n",
       "      <td>1</td>\n",
       "      <td>0</td>\n",
       "    </tr>\n",
       "    <tr>\n",
       "      <th>5889</th>\n",
       "      <td>8280-MQRQN</td>\n",
       "      <td>Female</td>\n",
       "      <td>0</td>\n",
       "      <td>No</td>\n",
       "      <td>No</td>\n",
       "      <td>1</td>\n",
       "      <td>Yes</td>\n",
       "      <td>No</td>\n",
       "      <td>No</td>\n",
       "      <td>No</td>\n",
       "      <td>...</td>\n",
       "      <td>0</td>\n",
       "      <td>1</td>\n",
       "      <td>1</td>\n",
       "      <td>0</td>\n",
       "      <td>0</td>\n",
       "      <td>0</td>\n",
       "      <td>0</td>\n",
       "      <td>0</td>\n",
       "      <td>0</td>\n",
       "      <td>1</td>\n",
       "    </tr>\n",
       "    <tr>\n",
       "      <th>6087</th>\n",
       "      <td>8626-PTQGE</td>\n",
       "      <td>Male</td>\n",
       "      <td>0</td>\n",
       "      <td>No</td>\n",
       "      <td>No</td>\n",
       "      <td>69</td>\n",
       "      <td>No</td>\n",
       "      <td>No phone service</td>\n",
       "      <td>Yes</td>\n",
       "      <td>Yes</td>\n",
       "      <td>...</td>\n",
       "      <td>1</td>\n",
       "      <td>1</td>\n",
       "      <td>0</td>\n",
       "      <td>0</td>\n",
       "      <td>1</td>\n",
       "      <td>0</td>\n",
       "      <td>0</td>\n",
       "      <td>0</td>\n",
       "      <td>0</td>\n",
       "      <td>0</td>\n",
       "    </tr>\n",
       "    <tr>\n",
       "      <th>785</th>\n",
       "      <td>1142-IHLOO</td>\n",
       "      <td>Female</td>\n",
       "      <td>0</td>\n",
       "      <td>No</td>\n",
       "      <td>No</td>\n",
       "      <td>51</td>\n",
       "      <td>Yes</td>\n",
       "      <td>No</td>\n",
       "      <td>No</td>\n",
       "      <td>No</td>\n",
       "      <td>...</td>\n",
       "      <td>1</td>\n",
       "      <td>0</td>\n",
       "      <td>0</td>\n",
       "      <td>1</td>\n",
       "      <td>0</td>\n",
       "      <td>1</td>\n",
       "      <td>0</td>\n",
       "      <td>1</td>\n",
       "      <td>0</td>\n",
       "      <td>0</td>\n",
       "    </tr>\n",
       "  </tbody>\n",
       "</table>\n",
       "<p>5 rows × 50 columns</p>\n",
       "</div>"
      ],
      "text/plain": [
       "     customer_id  gender senior_citizen partner dependents  tenure  \\\n",
       "5911  8319-QBEHW    Male              0      No        Yes      26   \n",
       "2479  3547-LQRIK  Female              0     Yes         No      47   \n",
       "5889  8280-MQRQN  Female              0      No         No       1   \n",
       "6087  8626-PTQGE    Male              0      No         No      69   \n",
       "785   1142-IHLOO  Female              0      No         No      51   \n",
       "\n",
       "     phone_service    multiple_lines      online_security  \\\n",
       "5911            No  No phone service                   No   \n",
       "2479           Yes               Yes  No internet service   \n",
       "5889           Yes                No                   No   \n",
       "6087            No  No phone service                  Yes   \n",
       "785            Yes                No                   No   \n",
       "\n",
       "            online_backup  ... streaming_movies_Yes paperless_billing_Yes  \\\n",
       "5911                  Yes  ...                    0                     1   \n",
       "2479  No internet service  ...                    0                     0   \n",
       "5889                   No  ...                    0                     1   \n",
       "6087                  Yes  ...                    1                     1   \n",
       "785                    No  ...                    1                     0   \n",
       "\n",
       "     churn_Yes contract_type_One year contract_type_Two year  \\\n",
       "5911         0                      1                      0   \n",
       "2479         0                      1                      0   \n",
       "5889         1                      0                      0   \n",
       "6087         0                      0                      1   \n",
       "785          0                      1                      0   \n",
       "\n",
       "      internet_service_type_Fiber optic  internet_service_type_None  \\\n",
       "5911                                  0                           0   \n",
       "2479                                  0                           1   \n",
       "5889                                  0                           0   \n",
       "6087                                  0                           0   \n",
       "785                                   1                           0   \n",
       "\n",
       "     payment_type_Credit card (automatic) payment_type_Electronic check  \\\n",
       "5911                                    0                             0   \n",
       "2479                                    0                             1   \n",
       "5889                                    0                             0   \n",
       "6087                                    0                             0   \n",
       "785                                     1                             0   \n",
       "\n",
       "     payment_type_Mailed check  \n",
       "5911                         0  \n",
       "2479                         0  \n",
       "5889                         1  \n",
       "6087                         0  \n",
       "785                          0  \n",
       "\n",
       "[5 rows x 50 columns]"
      ]
     },
     "execution_count": 3,
     "metadata": {},
     "output_type": "execute_result"
    }
   ],
   "source": [
    "train.head()"
   ]
  },
  {
   "cell_type": "code",
   "execution_count": 4,
   "id": "576a9acb",
   "metadata": {},
   "outputs": [
    {
     "data": {
      "text/html": [
       "<div>\n",
       "<style scoped>\n",
       "    .dataframe tbody tr th:only-of-type {\n",
       "        vertical-align: middle;\n",
       "    }\n",
       "\n",
       "    .dataframe tbody tr th {\n",
       "        vertical-align: top;\n",
       "    }\n",
       "\n",
       "    .dataframe thead th {\n",
       "        text-align: right;\n",
       "    }\n",
       "</style>\n",
       "<table border=\"1\" class=\"dataframe\">\n",
       "  <thead>\n",
       "    <tr style=\"text-align: right;\">\n",
       "      <th></th>\n",
       "      <th>tenure</th>\n",
       "      <th>monthly_charges</th>\n",
       "      <th>total_charges</th>\n",
       "      <th>baseline_prediction</th>\n",
       "      <th>gender_Male</th>\n",
       "      <th>senior_citizen_1</th>\n",
       "      <th>partner_Yes</th>\n",
       "      <th>dependents_Yes</th>\n",
       "      <th>phone_service_Yes</th>\n",
       "      <th>multiple_lines_No phone service</th>\n",
       "      <th>...</th>\n",
       "      <th>streaming_movies_Yes</th>\n",
       "      <th>paperless_billing_Yes</th>\n",
       "      <th>churn_Yes</th>\n",
       "      <th>contract_type_One year</th>\n",
       "      <th>contract_type_Two year</th>\n",
       "      <th>internet_service_type_Fiber optic</th>\n",
       "      <th>internet_service_type_None</th>\n",
       "      <th>payment_type_Credit card (automatic)</th>\n",
       "      <th>payment_type_Electronic check</th>\n",
       "      <th>payment_type_Mailed check</th>\n",
       "    </tr>\n",
       "  </thead>\n",
       "  <tbody>\n",
       "    <tr>\n",
       "      <th>count</th>\n",
       "      <td>4225.000000</td>\n",
       "      <td>4225.000000</td>\n",
       "      <td>4216.000000</td>\n",
       "      <td>4225.0</td>\n",
       "      <td>4225.000000</td>\n",
       "      <td>4225.000000</td>\n",
       "      <td>4225.000000</td>\n",
       "      <td>4225.000000</td>\n",
       "      <td>4225.000000</td>\n",
       "      <td>4225.000000</td>\n",
       "      <td>...</td>\n",
       "      <td>4225.000000</td>\n",
       "      <td>4225.000000</td>\n",
       "      <td>4225.000000</td>\n",
       "      <td>4225.000000</td>\n",
       "      <td>4225.000000</td>\n",
       "      <td>4225.000000</td>\n",
       "      <td>4225.000000</td>\n",
       "      <td>4225.000000</td>\n",
       "      <td>4225.000000</td>\n",
       "      <td>4225.000000</td>\n",
       "    </tr>\n",
       "    <tr>\n",
       "      <th>mean</th>\n",
       "      <td>32.500828</td>\n",
       "      <td>65.056142</td>\n",
       "      <td>2303.420292</td>\n",
       "      <td>0.0</td>\n",
       "      <td>0.508639</td>\n",
       "      <td>0.161893</td>\n",
       "      <td>0.488521</td>\n",
       "      <td>0.306272</td>\n",
       "      <td>0.906982</td>\n",
       "      <td>0.093018</td>\n",
       "      <td>...</td>\n",
       "      <td>0.395503</td>\n",
       "      <td>0.593846</td>\n",
       "      <td>0.265325</td>\n",
       "      <td>0.216095</td>\n",
       "      <td>0.235503</td>\n",
       "      <td>0.439053</td>\n",
       "      <td>0.218462</td>\n",
       "      <td>0.217515</td>\n",
       "      <td>0.336805</td>\n",
       "      <td>0.224852</td>\n",
       "    </tr>\n",
       "    <tr>\n",
       "      <th>std</th>\n",
       "      <td>24.532563</td>\n",
       "      <td>30.268493</td>\n",
       "      <td>2271.540183</td>\n",
       "      <td>0.0</td>\n",
       "      <td>0.499985</td>\n",
       "      <td>0.368397</td>\n",
       "      <td>0.499927</td>\n",
       "      <td>0.460999</td>\n",
       "      <td>0.290492</td>\n",
       "      <td>0.290492</td>\n",
       "      <td>...</td>\n",
       "      <td>0.489016</td>\n",
       "      <td>0.491172</td>\n",
       "      <td>0.441559</td>\n",
       "      <td>0.411628</td>\n",
       "      <td>0.424363</td>\n",
       "      <td>0.496330</td>\n",
       "      <td>0.413251</td>\n",
       "      <td>0.412604</td>\n",
       "      <td>0.472673</td>\n",
       "      <td>0.417534</td>\n",
       "    </tr>\n",
       "    <tr>\n",
       "      <th>min</th>\n",
       "      <td>0.000000</td>\n",
       "      <td>18.250000</td>\n",
       "      <td>18.850000</td>\n",
       "      <td>0.0</td>\n",
       "      <td>0.000000</td>\n",
       "      <td>0.000000</td>\n",
       "      <td>0.000000</td>\n",
       "      <td>0.000000</td>\n",
       "      <td>0.000000</td>\n",
       "      <td>0.000000</td>\n",
       "      <td>...</td>\n",
       "      <td>0.000000</td>\n",
       "      <td>0.000000</td>\n",
       "      <td>0.000000</td>\n",
       "      <td>0.000000</td>\n",
       "      <td>0.000000</td>\n",
       "      <td>0.000000</td>\n",
       "      <td>0.000000</td>\n",
       "      <td>0.000000</td>\n",
       "      <td>0.000000</td>\n",
       "      <td>0.000000</td>\n",
       "    </tr>\n",
       "    <tr>\n",
       "      <th>25%</th>\n",
       "      <td>9.000000</td>\n",
       "      <td>35.650000</td>\n",
       "      <td>413.550000</td>\n",
       "      <td>0.0</td>\n",
       "      <td>0.000000</td>\n",
       "      <td>0.000000</td>\n",
       "      <td>0.000000</td>\n",
       "      <td>0.000000</td>\n",
       "      <td>1.000000</td>\n",
       "      <td>0.000000</td>\n",
       "      <td>...</td>\n",
       "      <td>0.000000</td>\n",
       "      <td>0.000000</td>\n",
       "      <td>0.000000</td>\n",
       "      <td>0.000000</td>\n",
       "      <td>0.000000</td>\n",
       "      <td>0.000000</td>\n",
       "      <td>0.000000</td>\n",
       "      <td>0.000000</td>\n",
       "      <td>0.000000</td>\n",
       "      <td>0.000000</td>\n",
       "    </tr>\n",
       "    <tr>\n",
       "      <th>50%</th>\n",
       "      <td>29.000000</td>\n",
       "      <td>70.400000</td>\n",
       "      <td>1406.325000</td>\n",
       "      <td>0.0</td>\n",
       "      <td>1.000000</td>\n",
       "      <td>0.000000</td>\n",
       "      <td>0.000000</td>\n",
       "      <td>0.000000</td>\n",
       "      <td>1.000000</td>\n",
       "      <td>0.000000</td>\n",
       "      <td>...</td>\n",
       "      <td>0.000000</td>\n",
       "      <td>1.000000</td>\n",
       "      <td>0.000000</td>\n",
       "      <td>0.000000</td>\n",
       "      <td>0.000000</td>\n",
       "      <td>0.000000</td>\n",
       "      <td>0.000000</td>\n",
       "      <td>0.000000</td>\n",
       "      <td>0.000000</td>\n",
       "      <td>0.000000</td>\n",
       "    </tr>\n",
       "    <tr>\n",
       "      <th>75%</th>\n",
       "      <td>55.000000</td>\n",
       "      <td>90.150000</td>\n",
       "      <td>3871.775000</td>\n",
       "      <td>0.0</td>\n",
       "      <td>1.000000</td>\n",
       "      <td>0.000000</td>\n",
       "      <td>1.000000</td>\n",
       "      <td>1.000000</td>\n",
       "      <td>1.000000</td>\n",
       "      <td>0.000000</td>\n",
       "      <td>...</td>\n",
       "      <td>1.000000</td>\n",
       "      <td>1.000000</td>\n",
       "      <td>1.000000</td>\n",
       "      <td>0.000000</td>\n",
       "      <td>0.000000</td>\n",
       "      <td>1.000000</td>\n",
       "      <td>0.000000</td>\n",
       "      <td>0.000000</td>\n",
       "      <td>1.000000</td>\n",
       "      <td>0.000000</td>\n",
       "    </tr>\n",
       "    <tr>\n",
       "      <th>max</th>\n",
       "      <td>72.000000</td>\n",
       "      <td>118.750000</td>\n",
       "      <td>8672.450000</td>\n",
       "      <td>0.0</td>\n",
       "      <td>1.000000</td>\n",
       "      <td>1.000000</td>\n",
       "      <td>1.000000</td>\n",
       "      <td>1.000000</td>\n",
       "      <td>1.000000</td>\n",
       "      <td>1.000000</td>\n",
       "      <td>...</td>\n",
       "      <td>1.000000</td>\n",
       "      <td>1.000000</td>\n",
       "      <td>1.000000</td>\n",
       "      <td>1.000000</td>\n",
       "      <td>1.000000</td>\n",
       "      <td>1.000000</td>\n",
       "      <td>1.000000</td>\n",
       "      <td>1.000000</td>\n",
       "      <td>1.000000</td>\n",
       "      <td>1.000000</td>\n",
       "    </tr>\n",
       "  </tbody>\n",
       "</table>\n",
       "<p>8 rows × 32 columns</p>\n",
       "</div>"
      ],
      "text/plain": [
       "            tenure  monthly_charges  total_charges  baseline_prediction  \\\n",
       "count  4225.000000      4225.000000    4216.000000               4225.0   \n",
       "mean     32.500828        65.056142    2303.420292                  0.0   \n",
       "std      24.532563        30.268493    2271.540183                  0.0   \n",
       "min       0.000000        18.250000      18.850000                  0.0   \n",
       "25%       9.000000        35.650000     413.550000                  0.0   \n",
       "50%      29.000000        70.400000    1406.325000                  0.0   \n",
       "75%      55.000000        90.150000    3871.775000                  0.0   \n",
       "max      72.000000       118.750000    8672.450000                  0.0   \n",
       "\n",
       "       gender_Male  senior_citizen_1  partner_Yes  dependents_Yes  \\\n",
       "count  4225.000000       4225.000000  4225.000000     4225.000000   \n",
       "mean      0.508639          0.161893     0.488521        0.306272   \n",
       "std       0.499985          0.368397     0.499927        0.460999   \n",
       "min       0.000000          0.000000     0.000000        0.000000   \n",
       "25%       0.000000          0.000000     0.000000        0.000000   \n",
       "50%       1.000000          0.000000     0.000000        0.000000   \n",
       "75%       1.000000          0.000000     1.000000        1.000000   \n",
       "max       1.000000          1.000000     1.000000        1.000000   \n",
       "\n",
       "       phone_service_Yes  multiple_lines_No phone service  ...  \\\n",
       "count        4225.000000                      4225.000000  ...   \n",
       "mean            0.906982                         0.093018  ...   \n",
       "std             0.290492                         0.290492  ...   \n",
       "min             0.000000                         0.000000  ...   \n",
       "25%             1.000000                         0.000000  ...   \n",
       "50%             1.000000                         0.000000  ...   \n",
       "75%             1.000000                         0.000000  ...   \n",
       "max             1.000000                         1.000000  ...   \n",
       "\n",
       "       streaming_movies_Yes  paperless_billing_Yes    churn_Yes  \\\n",
       "count           4225.000000            4225.000000  4225.000000   \n",
       "mean               0.395503               0.593846     0.265325   \n",
       "std                0.489016               0.491172     0.441559   \n",
       "min                0.000000               0.000000     0.000000   \n",
       "25%                0.000000               0.000000     0.000000   \n",
       "50%                0.000000               1.000000     0.000000   \n",
       "75%                1.000000               1.000000     1.000000   \n",
       "max                1.000000               1.000000     1.000000   \n",
       "\n",
       "       contract_type_One year  contract_type_Two year  \\\n",
       "count             4225.000000             4225.000000   \n",
       "mean                 0.216095                0.235503   \n",
       "std                  0.411628                0.424363   \n",
       "min                  0.000000                0.000000   \n",
       "25%                  0.000000                0.000000   \n",
       "50%                  0.000000                0.000000   \n",
       "75%                  0.000000                0.000000   \n",
       "max                  1.000000                1.000000   \n",
       "\n",
       "       internet_service_type_Fiber optic  internet_service_type_None  \\\n",
       "count                        4225.000000                 4225.000000   \n",
       "mean                            0.439053                    0.218462   \n",
       "std                             0.496330                    0.413251   \n",
       "min                             0.000000                    0.000000   \n",
       "25%                             0.000000                    0.000000   \n",
       "50%                             0.000000                    0.000000   \n",
       "75%                             1.000000                    0.000000   \n",
       "max                             1.000000                    1.000000   \n",
       "\n",
       "       payment_type_Credit card (automatic)  payment_type_Electronic check  \\\n",
       "count                           4225.000000                    4225.000000   \n",
       "mean                               0.217515                       0.336805   \n",
       "std                                0.412604                       0.472673   \n",
       "min                                0.000000                       0.000000   \n",
       "25%                                0.000000                       0.000000   \n",
       "50%                                0.000000                       0.000000   \n",
       "75%                                0.000000                       1.000000   \n",
       "max                                1.000000                       1.000000   \n",
       "\n",
       "       payment_type_Mailed check  \n",
       "count                4225.000000  \n",
       "mean                    0.224852  \n",
       "std                     0.417534  \n",
       "min                     0.000000  \n",
       "25%                     0.000000  \n",
       "50%                     0.000000  \n",
       "75%                     0.000000  \n",
       "max                     1.000000  \n",
       "\n",
       "[8 rows x 32 columns]"
      ]
     },
     "execution_count": 4,
     "metadata": {},
     "output_type": "execute_result"
    }
   ],
   "source": [
    "train.describe()\n"
   ]
  },
  {
   "cell_type": "markdown",
   "id": "2f5a5b2a",
   "metadata": {},
   "source": [
    "# Explore"
   ]
  },
  {
   "cell_type": "markdown",
   "id": "91b4f05c",
   "metadata": {},
   "source": [
    "## * Are customers with DSL more or less likely to churn?"
   ]
  },
  {
   "cell_type": "code",
   "execution_count": 5,
   "id": "70abb517",
   "metadata": {},
   "outputs": [
    {
     "data": {
      "image/png": "[encoded data removed]",
      "text/plain": [
       "<Figure size 640x480 with 1 Axes>"
      ]
     },
     "metadata": {},
     "output_type": "display_data"
    }
   ],
   "source": [
    "dsl_v_churn()"
   ]
  },
  {
   "cell_type": "markdown",
   "id": "da54cc6b",
   "metadata": {},
   "source": [
    "### Takeaways:"
   ]
  },
  {
   "cell_type": "markdown",
   "id": "c2a87cae",
   "metadata": {},
   "source": [
    "* DSL is not a strong reason why customers churn\n",
    "* Customers with Fiber Optics have more churn than DSL"
   ]
  },
  {
   "cell_type": "markdown",
   "id": "cb44470c",
   "metadata": {},
   "source": [
    "## * What month are customers most likely to churn and does that depend on their contract type?"
   ]
  },
  {
   "cell_type": "code",
   "execution_count": 6,
   "id": "2914cbe6",
   "metadata": {
    "scrolled": false
   },
   "outputs": [
    {
     "data": {
      "image/png": "[encoded data removed]",
      "text/plain": [
       "<Figure size 640x480 with 1 Axes>"
      ]
     },
     "metadata": {},
     "output_type": "display_data"
    },
    {
     "name": "stdout",
     "output_type": "stream",
     "text": [
      "Top churned from Month to Month Contraacts\n"
     ]
    },
    {
     "data": {
      "text/html": [
       "<div>\n",
       "<style scoped>\n",
       "    .dataframe tbody tr th:only-of-type {\n",
       "        vertical-align: middle;\n",
       "    }\n",
       "\n",
       "    .dataframe tbody tr th {\n",
       "        vertical-align: top;\n",
       "    }\n",
       "\n",
       "    .dataframe thead th {\n",
       "        text-align: right;\n",
       "    }\n",
       "</style>\n",
       "<table border=\"1\" class=\"dataframe\">\n",
       "  <thead>\n",
       "    <tr style=\"text-align: right;\">\n",
       "      <th></th>\n",
       "      <th>churn_Yes</th>\n",
       "      <th>position</th>\n",
       "    </tr>\n",
       "    <tr>\n",
       "      <th>tenure</th>\n",
       "      <th></th>\n",
       "      <th></th>\n",
       "    </tr>\n",
       "  </thead>\n",
       "  <tbody>\n",
       "    <tr>\n",
       "      <th>1</th>\n",
       "      <td>228</td>\n",
       "      <td>1</td>\n",
       "    </tr>\n",
       "  </tbody>\n",
       "</table>\n",
       "</div>"
      ],
      "text/plain": [
       "        churn_Yes  position\n",
       "tenure                     \n",
       "1             228         1"
      ]
     },
     "metadata": {},
     "output_type": "display_data"
    },
    {
     "name": "stdout",
     "output_type": "stream",
     "text": [
      "Top churned from One Year Contraacts\n"
     ]
    },
    {
     "data": {
      "text/html": [
       "<div>\n",
       "<style scoped>\n",
       "    .dataframe tbody tr th:only-of-type {\n",
       "        vertical-align: middle;\n",
       "    }\n",
       "\n",
       "    .dataframe tbody tr th {\n",
       "        vertical-align: top;\n",
       "    }\n",
       "\n",
       "    .dataframe thead th {\n",
       "        text-align: right;\n",
       "    }\n",
       "</style>\n",
       "<table border=\"1\" class=\"dataframe\">\n",
       "  <thead>\n",
       "    <tr style=\"text-align: right;\">\n",
       "      <th></th>\n",
       "      <th>churn_Yes</th>\n",
       "      <th>position</th>\n",
       "    </tr>\n",
       "    <tr>\n",
       "      <th>tenure</th>\n",
       "      <th></th>\n",
       "      <th></th>\n",
       "    </tr>\n",
       "  </thead>\n",
       "  <tbody>\n",
       "    <tr>\n",
       "      <th>54</th>\n",
       "      <td>6</td>\n",
       "      <td>1</td>\n",
       "    </tr>\n",
       "  </tbody>\n",
       "</table>\n",
       "</div>"
      ],
      "text/plain": [
       "        churn_Yes  position\n",
       "tenure                     \n",
       "54              6         1"
      ]
     },
     "metadata": {},
     "output_type": "display_data"
    },
    {
     "name": "stdout",
     "output_type": "stream",
     "text": [
      "Top churned from Two Year Contraacts\n"
     ]
    },
    {
     "data": {
      "text/html": [
       "<div>\n",
       "<style scoped>\n",
       "    .dataframe tbody tr th:only-of-type {\n",
       "        vertical-align: middle;\n",
       "    }\n",
       "\n",
       "    .dataframe tbody tr th {\n",
       "        vertical-align: top;\n",
       "    }\n",
       "\n",
       "    .dataframe thead th {\n",
       "        text-align: right;\n",
       "    }\n",
       "</style>\n",
       "<table border=\"1\" class=\"dataframe\">\n",
       "  <thead>\n",
       "    <tr style=\"text-align: right;\">\n",
       "      <th></th>\n",
       "      <th>churn_Yes</th>\n",
       "      <th>position</th>\n",
       "    </tr>\n",
       "    <tr>\n",
       "      <th>tenure</th>\n",
       "      <th></th>\n",
       "      <th></th>\n",
       "    </tr>\n",
       "  </thead>\n",
       "  <tbody>\n",
       "    <tr>\n",
       "      <th>71</th>\n",
       "      <td>4</td>\n",
       "      <td>1</td>\n",
       "    </tr>\n",
       "  </tbody>\n",
       "</table>\n",
       "</div>"
      ],
      "text/plain": [
       "        churn_Yes  position\n",
       "tenure                     \n",
       "71              4         1"
      ]
     },
     "metadata": {},
     "output_type": "display_data"
    }
   ],
   "source": [
    "contract_type_v_churn()"
   ]
  },
  {
   "cell_type": "markdown",
   "id": "36321da9",
   "metadata": {},
   "source": [
    "### Takeaways:\n",
    "* Most churn happens with the month-to-month customer\n",
    "* Customers with the most retention are on two year plans\n",
    "* The month most churn happens is the first month of contract with month to month customers "
   ]
  },
  {
   "cell_type": "markdown",
   "id": "82dd971a",
   "metadata": {},
   "source": [
    "## * Is there a service or option that is associated with more churn than expected?"
   ]
  },
  {
   "cell_type": "code",
   "execution_count": 7,
   "id": "f78e93ad",
   "metadata": {
    "scrolled": false
   },
   "outputs": [
    {
     "data": {
      "image/png": "[encoded data removed]",
      "text/plain": [
       "<Figure size 640x480 with 1 Axes>"
      ]
     },
     "metadata": {},
     "output_type": "display_data"
    }
   ],
   "source": [
    "payment_v_churn()"
   ]
  },
  {
   "cell_type": "markdown",
   "id": "ff5a6770",
   "metadata": {},
   "source": [
    "### Takeaways:\n",
    "* There are a total of 1423 Electronic Check customers \n",
    "* 643 of those have churn thats 45% churn rate\n",
    "* It is more that all the payment methods combined"
   ]
  },
  {
   "cell_type": "markdown",
   "id": "immediate-mirror",
   "metadata": {},
   "source": [
    "## * Do customers who churn have a higher average monthly spend than those who don't?"
   ]
  },
  {
   "cell_type": "code",
   "execution_count": 8,
   "id": "0e09a9cf",
   "metadata": {},
   "outputs": [
    {
     "data": {
      "image/png": "[encoded data removed]",
      "text/plain": [
       "<Figure size 1200x400 with 2 Axes>"
      ]
     },
     "metadata": {},
     "output_type": "display_data"
    },
    {
     "data": {
      "image/png": "[encoded data removed]",
      "text/plain": [
       "<Figure size 1200x400 with 2 Axes>"
      ]
     },
     "metadata": {},
     "output_type": "display_data"
    }
   ],
   "source": [
    "monthly_v_churn()"
   ]
  },
  {
   "cell_type": "markdown",
   "id": "931ac243",
   "metadata": {},
   "source": [
    "### Takeaways\n",
    "* The customers who pay more than \\$70 have the highest churn rate\n",
    "* There are 762 customers who churn\n",
    "* The median monthly payment for customers who churns is \\$79.70\n",
    "* The median monthly payment for customers who don't churn is \\$64.95"
   ]
  },
  {
   "cell_type": "markdown",
   "id": "dc0188db",
   "metadata": {},
   "source": [
    "# Evaluation Question:\n",
    "## * Are charges of customers who churn significantly greater than who do not churn?\n",
    "\n",
    "#### *  I will preform a T-test to show if that customers who spend more monthly have a greater churn rate\n",
    "\n",
    "---\n",
    "+ I will use a confidence interval of 95%\n",
    "+ The resulting alpha is .05"
   ]
  },
  {
   "cell_type": "markdown",
   "id": "f01278f3",
   "metadata": {},
   "source": [
    "### Hypothesis:\n",
    "\n",
    "* H-o = Charges of customers is equal or less than who don't churn.\n",
    "* H-a = Charges of customers is greater than who don't churn."
   ]
  },
  {
   "cell_type": "code",
   "execution_count": 9,
   "id": "32eb7f91",
   "metadata": {
    "scrolled": false
   },
   "outputs": [
    {
     "data": {
      "image/png": "[encoded data removed]",
      "text/plain": [
       "<Figure size 900x600 with 1 Axes>"
      ]
     },
     "metadata": {},
     "output_type": "display_data"
    }
   ],
   "source": [
    "hyp_month_v_churn()"
   ]
  },
  {
   "cell_type": "code",
   "execution_count": 10,
   "id": "367ba383",
   "metadata": {},
   "outputs": [
    {
     "name": "stdout",
     "output_type": "stream",
     "text": [
      "p = 9.41633723579986e-42\n",
      "t = 13.796475652581572\n"
     ]
    }
   ],
   "source": [
    "t, p = t_test_monthly_churn()\n",
    "print(f'p = {p}')\n",
    "print(f't = {t}')"
   ]
  },
  {
   "cell_type": "markdown",
   "id": "f4ed6077",
   "metadata": {},
   "source": [
    "#### The p-value is less than the alpha. Therefore, we have evidence to support that the mean charge difference of customer who pay more mothly is significantly different from the mean charge difference of customer who pay less mothly. Based on this, and the ~\\$15 difference in medians, observed in the train data, I believe that using \"monthly_charges\" during modeling will provide a moderate improvement in the model's accuracy."
   ]
  },
  {
   "cell_type": "markdown",
   "id": "8ac626bc",
   "metadata": {},
   "source": [
    "# Evaluation Question:\n",
    "## * Is there a service or option that is associated with more churn than expected?\n",
    "\n",
    "#### * Customer with Manual Payments are more or less likely to churn?"
   ]
  },
  {
   "cell_type": "markdown",
   "id": "cc022a4d",
   "metadata": {},
   "source": [
    "### Hypothesis:\n",
    "\n",
    "* H-o = There is no relation in churn between customers with auto and manual payments.\n",
    "* H-a = There is a relation in churn between customers with auto and manual payments."
   ]
  },
  {
   "cell_type": "code",
   "execution_count": 11,
   "id": "59858694",
   "metadata": {
    "scrolled": true
   },
   "outputs": [
    {
     "name": "stdout",
     "output_type": "stream",
     "text": [
      "p = 5.412195802407718e-84\n",
      "chi^2 = 388.97403778913014\n"
     ]
    }
   ],
   "source": [
    "chi2, p = chi2_payment_churn()\n",
    "print(f'p = {p}')\n",
    "print(f'chi^2 = {chi2}')"
   ]
  },
  {
   "cell_type": "markdown",
   "id": "df12f3f6",
   "metadata": {},
   "source": [
    "#### The p-value is less than the alpha. Therefore, we have evidence to support that payment type and churn have relationship. Based on this, I believe using payment type during modeling will provide a moderate improvement in the model's accuracy."
   ]
  },
  {
   "cell_type": "markdown",
   "id": "incorrect-mailman",
   "metadata": {},
   "source": [
    "# Evaluation Summary:"
   ]
  },
  {
   "cell_type": "markdown",
   "id": "4a0b3d26",
   "metadata": {},
   "source": [
    "* \"internet_service_type\" category: Fiber Optics was found to be a driver of \"churn\"\n",
    "* \"contract_type\" was found to be a driver of \"churn\" due to the high number of customers churning on month to month contracts\n",
    "* \"payment_type\" was found to be a driver of \"churn\" due to the high number of customers churning on with manual payments\n",
    "* \"monthly_charges\" was found to be a driver of \"churn\"\n",
    "* The median charges for customers who churned \\$\\ $74.70 while the non churn customers was $64.95"
   ]
  },
  {
   "cell_type": "markdown",
   "id": "9f6acedb",
   "metadata": {},
   "source": [
    "* \"internet_service_type\" category: DSL was not found to be a driver of \"churn\""
   ]
  },
  {
   "cell_type": "markdown",
   "id": "minus-tulsa",
   "metadata": {},
   "source": [
    "## Modeling"
   ]
  },
  {
   "cell_type": "markdown",
   "id": "2d6fd7da",
   "metadata": {},
   "source": [
    "* Customers who do not churn makeup 73% of the data\n",
    "* By assuming non-churner a 73% baseline accuracy is achieved\n",
    "* I will compare how each model runs using various hyperparameters\n",
    "* I will compare the train with validate data\n",
    "* I will use accuracy as my evaluation metric\n",
    "* The best preforming model will be used on my test data"
   ]
  },
  {
   "cell_type": "markdown",
   "id": "a1ab86e0",
   "metadata": {},
   "source": [
    "### Prep Data"
   ]
  },
  {
   "cell_type": "code",
   "execution_count": 12,
   "id": "35208a86",
   "metadata": {},
   "outputs": [],
   "source": [
    "X_train, y_train, X_validate, y_validate, X_test, y_test = model_prep_data()"
   ]
  },
  {
   "cell_type": "markdown",
   "id": "e583eb1e",
   "metadata": {},
   "source": [
    "# Decision Tree"
   ]
  },
  {
   "cell_type": "code",
   "execution_count": 13,
   "id": "2db92bec",
   "metadata": {
    "scrolled": true
   },
   "outputs": [
    {
     "name": "stdout",
     "output_type": "stream",
     "text": [
      "Accuracy of Decision Tree on train data is: 0.7742011834319527\n",
      "Accuracy of Decision Tree on validate data is: 0.7643718949609652\n"
     ]
    }
   ],
   "source": [
    "model_decision_tree(X_train, X_validate, y_train, y_validate)"
   ]
  },
  {
   "cell_type": "markdown",
   "id": "86e600b7",
   "metadata": {},
   "source": [
    "* Decision Tree accuracy is 3 points better than baseline\n"
   ]
  },
  {
   "cell_type": "markdown",
   "id": "b78dd05d",
   "metadata": {},
   "source": [
    "## KNN model"
   ]
  },
  {
   "cell_type": "code",
   "execution_count": 14,
   "id": "182a85d7",
   "metadata": {},
   "outputs": [
    {
     "name": "stdout",
     "output_type": "stream",
     "text": [
      "Accuracy of KNN on train data is: 0.7848520710059171\n",
      "Accuracy of KNN on validate data is: 0.7558552164655784\n"
     ]
    }
   ],
   "source": [
    "model_knn(X_train, X_validate, y_train, y_validate)"
   ]
  },
  {
   "cell_type": "markdown",
   "id": "8d27c5c9",
   "metadata": {},
   "source": [
    "* KNN accuracy is 2 points better than baseline\n"
   ]
  },
  {
   "cell_type": "markdown",
   "id": "294ec3ca",
   "metadata": {},
   "source": [
    "# Random Forest Model"
   ]
  },
  {
   "cell_type": "code",
   "execution_count": 15,
   "id": "1600dd05",
   "metadata": {},
   "outputs": [
    {
     "name": "stdout",
     "output_type": "stream",
     "text": [
      "Accuracy of Random Forest on train data is: 0.7765680473372781\n",
      "Accuracy of Random Forest on validate data is: 0.7665010645848119\n"
     ]
    }
   ],
   "source": [
    "model_random_forest(X_train, X_validate, y_train, y_validate)"
   ]
  },
  {
   "cell_type": "markdown",
   "id": "100f8a94",
   "metadata": {},
   "source": [
    "* Random Forest accuracy is 3 points better than baseline\n"
   ]
  },
  {
   "cell_type": "markdown",
   "id": "eaab1758",
   "metadata": {},
   "source": [
    "# Log Regeression Model"
   ]
  },
  {
   "cell_type": "code",
   "execution_count": 16,
   "id": "49691d39",
   "metadata": {},
   "outputs": [
    {
     "name": "stdout",
     "output_type": "stream",
     "text": [
      "Accuracy of Log Regression on train data is: 0.3493491124260355\n",
      "Accuracy of Log Regression on validate data is: 0.3598296664300923\n"
     ]
    }
   ],
   "source": [
    "model_log(X_train, X_validate, y_train, y_validate)"
   ]
  },
  {
   "cell_type": "markdown",
   "id": "2886291c",
   "metadata": {},
   "source": [
    "* Log Regression accuracy is 35 points worse than baseline\n"
   ]
  },
  {
   "cell_type": "markdown",
   "id": "3de6fdbd",
   "metadata": {},
   "source": [
    "# Comparing Summary\n",
    "* Decision Tree, Random Forest, and KKN models all performed similar to each other\n",
    "* The KNN model had a slighlty lower accuracy than the three best models but seemed uniform mostly with results.\n",
    "* The Logistic Regression model preformed poorly. I may need to revisit and see where mistakes may have been made."
   ]
  },
  {
   "cell_type": "markdown",
   "id": "emotional-purchase",
   "metadata": {},
   "source": [
    "* The KNN Model was selected to run the test data. This model also was 2 points better than baseline but seemed to be most stable when charting the resukts."
   ]
  },
  {
   "cell_type": "markdown",
   "id": "regulated-fellowship",
   "metadata": {},
   "source": [
    "# KNN Model Testing"
   ]
  },
  {
   "cell_type": "code",
   "execution_count": 17,
   "id": "optical-quilt",
   "metadata": {
    "scrolled": true
   },
   "outputs": [
    {
     "name": "stdout",
     "output_type": "stream",
     "text": [
      "Accuracy of KNN on test data is: 0.7388218594748048\n"
     ]
    }
   ],
   "source": [
    "model_knn_test(X_train, X_test, y_train, y_test)"
   ]
  },
  {
   "cell_type": "markdown",
   "id": "7454dbfb",
   "metadata": {},
   "source": [
    "\n",
    "## Modeling Summary"
   ]
  },
  {
   "cell_type": "markdown",
   "id": "motivated-recycling",
   "metadata": {},
   "source": [
    "* Decision Tree, Random Forest, and KKN models all performed similar to each other\n",
    "* The KNN model had a slighlty lower accuracy than the three best models but seemed uniform mostly with results.\n",
    "* Knn Model preformed slighlty better than baseline"
   ]
  },
  {
   "cell_type": "markdown",
   "id": "tutorial-twelve",
   "metadata": {},
   "source": [
    "# Conclusion\n",
    "\n",
    "## Exploration Summary\n",
    "* Customers with Fiber Optics have more churn than DSL.\n",
    "* Encouraging customers to be on automatic payment plan will seems to reduce churn.\n",
    "* 643 manual check writers churned which is a 45% churn rate for all payment types.\n",
    "* When the monthly charges reached approximate \\$70 the churn rate rised.\n",
    "* The median monthly payment for customers who churns is \\$79.70\n",
    "\n",
    "\n",
    "## Modeling\n",
    "* The final model failed to significantly outperform the baseline. Possible reasons include:\n",
    "\n",
    "“payment_type” and “contract_type” may not have had meaningful relation to who will churn.\n",
    "Since monthly charges\" seems to be a larger contributor to churn, adding more of the services to see which service may be contributing to churn. \n",
    "\n",
    "## Recommendations\n",
    "* This may be simple enough but have a column for reason for caneling service. Helpful to pinpoint issues and improve service.\n",
    "\n",
    "## Next Steps\n",
    "* Explore the relation of Fiber Optics to churn. Services like tech support or streaming services could also be explored."
   ]
  },
  {
   "cell_type": "code",
   "execution_count": 28,
   "id": "c13bb80e",
   "metadata": {},
   "outputs": [],
   "source": [
    "has_churned = [1, 1, 0, 0, 1, 0, 0, 0, 0, 0, 0]\n",
    "df = pd.DataFrame(has_churned, columns=['churned'])"
   ]
  },
  {
   "cell_type": "code",
   "execution_count": 29,
   "id": "2a1986e5",
   "metadata": {
    "scrolled": true
   },
   "outputs": [
    {
     "data": {
      "text/html": [
       "<div>\n",
       "<style scoped>\n",
       "    .dataframe tbody tr th:only-of-type {\n",
       "        vertical-align: middle;\n",
       "    }\n",
       "\n",
       "    .dataframe tbody tr th {\n",
       "        vertical-align: top;\n",
       "    }\n",
       "\n",
       "    .dataframe thead th {\n",
       "        text-align: right;\n",
       "    }\n",
       "</style>\n",
       "<table border=\"1\" class=\"dataframe\">\n",
       "  <thead>\n",
       "    <tr style=\"text-align: right;\">\n",
       "      <th></th>\n",
       "      <th>churned</th>\n",
       "    </tr>\n",
       "  </thead>\n",
       "  <tbody>\n",
       "    <tr>\n",
       "      <th>0</th>\n",
       "      <td>1</td>\n",
       "    </tr>\n",
       "    <tr>\n",
       "      <th>1</th>\n",
       "      <td>1</td>\n",
       "    </tr>\n",
       "    <tr>\n",
       "      <th>2</th>\n",
       "      <td>0</td>\n",
       "    </tr>\n",
       "    <tr>\n",
       "      <th>3</th>\n",
       "      <td>0</td>\n",
       "    </tr>\n",
       "    <tr>\n",
       "      <th>4</th>\n",
       "      <td>1</td>\n",
       "    </tr>\n",
       "    <tr>\n",
       "      <th>5</th>\n",
       "      <td>0</td>\n",
       "    </tr>\n",
       "    <tr>\n",
       "      <th>6</th>\n",
       "      <td>0</td>\n",
       "    </tr>\n",
       "    <tr>\n",
       "      <th>7</th>\n",
       "      <td>0</td>\n",
       "    </tr>\n",
       "    <tr>\n",
       "      <th>8</th>\n",
       "      <td>0</td>\n",
       "    </tr>\n",
       "    <tr>\n",
       "      <th>9</th>\n",
       "      <td>0</td>\n",
       "    </tr>\n",
       "    <tr>\n",
       "      <th>10</th>\n",
       "      <td>0</td>\n",
       "    </tr>\n",
       "  </tbody>\n",
       "</table>\n",
       "</div>"
      ],
      "text/plain": [
       "    churned\n",
       "0         1\n",
       "1         1\n",
       "2         0\n",
       "3         0\n",
       "4         1\n",
       "5         0\n",
       "6         0\n",
       "7         0\n",
       "8         0\n",
       "9         0\n",
       "10        0"
      ]
     },
     "execution_count": 29,
     "metadata": {},
     "output_type": "execute_result"
    }
   ],
   "source": [
    "df"
   ]
  },
  {
   "cell_type": "code",
   "execution_count": 32,
   "id": "54f1b393",
   "metadata": {},
   "outputs": [
    {
     "data": {
      "text/html": [
       "<div>\n",
       "<style scoped>\n",
       "    .dataframe tbody tr th:only-of-type {\n",
       "        vertical-align: middle;\n",
       "    }\n",
       "\n",
       "    .dataframe tbody tr th {\n",
       "        vertical-align: top;\n",
       "    }\n",
       "\n",
       "    .dataframe thead th {\n",
       "        text-align: right;\n",
       "    }\n",
       "</style>\n",
       "<table border=\"1\" class=\"dataframe\">\n",
       "  <thead>\n",
       "    <tr style=\"text-align: right;\">\n",
       "      <th></th>\n",
       "      <th>baseline</th>\n",
       "    </tr>\n",
       "  </thead>\n",
       "  <tbody>\n",
       "    <tr>\n",
       "      <th>0</th>\n",
       "      <td>0</td>\n",
       "    </tr>\n",
       "    <tr>\n",
       "      <th>1</th>\n",
       "      <td>0</td>\n",
       "    </tr>\n",
       "    <tr>\n",
       "      <th>2</th>\n",
       "      <td>0</td>\n",
       "    </tr>\n",
       "    <tr>\n",
       "      <th>3</th>\n",
       "      <td>0</td>\n",
       "    </tr>\n",
       "    <tr>\n",
       "      <th>4</th>\n",
       "      <td>0</td>\n",
       "    </tr>\n",
       "    <tr>\n",
       "      <th>5</th>\n",
       "      <td>0</td>\n",
       "    </tr>\n",
       "    <tr>\n",
       "      <th>6</th>\n",
       "      <td>0</td>\n",
       "    </tr>\n",
       "    <tr>\n",
       "      <th>7</th>\n",
       "      <td>0</td>\n",
       "    </tr>\n",
       "    <tr>\n",
       "      <th>8</th>\n",
       "      <td>0</td>\n",
       "    </tr>\n",
       "    <tr>\n",
       "      <th>9</th>\n",
       "      <td>0</td>\n",
       "    </tr>\n",
       "    <tr>\n",
       "      <th>10</th>\n",
       "      <td>0</td>\n",
       "    </tr>\n",
       "  </tbody>\n",
       "</table>\n",
       "</div>"
      ],
      "text/plain": [
       "    baseline\n",
       "0          0\n",
       "1          0\n",
       "2          0\n",
       "3          0\n",
       "4          0\n",
       "5          0\n",
       "6          0\n",
       "7          0\n",
       "8          0\n",
       "9          0\n",
       "10         0"
      ]
     },
     "execution_count": 32,
     "metadata": {},
     "output_type": "execute_result"
    }
   ],
   "source": [
    "baseline = [0, 0, 0, 0, 0, 0, 0, 0, 0, 0, 0]\n",
    "df1 = pd.DataFrame(baseline, columns=['baseline'])\n",
    "df1"
   ]
  },
  {
   "cell_type": "code",
   "execution_count": 4,
   "id": "7bb513e4",
   "metadata": {
    "scrolled": true
   },
   "outputs": [
    {
     "name": "stdout",
     "output_type": "stream",
     "text": [
      "[[8 3]\n",
      " [0 0]]\n"
     ]
    }
   ],
   "source": [
    "from sklearn.metrics import confusion_matrix\n",
    "\n",
    "true_labels = [1, 1, 0, 0, 1, 0, 0, 0, 0, 0, 0]\n",
    "predicted_labels = [0, 0, 0, 0, 0, 0, 0, 0, 0, 0, 0]\n",
    "\n",
    "cm = confusion_matrix(true_labels, predicted_labels)\n",
    "print(cm.T)\n"
   ]
  },
  {
   "cell_type": "code",
   "execution_count": 3,
   "id": "24f6cbdf",
   "metadata": {},
   "outputs": [
    {
     "name": "stdout",
     "output_type": "stream",
     "text": [
      "[[8 3]\n",
      " [0 0]]\n"
     ]
    }
   ],
   "source": [
    "from sklearn.metrics import confusion_matrix\n",
    "\n",
    "true_labels = [1, 1, 0, 0, 1, 0, 0, 0, 0, 0, 0]\n",
    "predicted_labels = [0, 0, 0, 0, 0, 0, 0, 0, 0, 0, 0]\n",
    "\n",
    "cm = confusion_matrix( predicted_labels, true_labels)\n",
    "print(cm)"
   ]
  },
  {
   "cell_type": "code",
   "execution_count": null,
   "id": "58ea80fa",
   "metadata": {},
   "outputs": [],
   "source": []
  }
 ],
 "metadata": {
  "kernelspec": {
   "display_name": "Python 3 (ipykernel)",
   "language": "python",
   "name": "python3"
  },
  "language_info": {
   "codemirror_mode": {
    "name": "ipython",
    "version": 3
   },
   "file_extension": ".py",
   "mimetype": "text/x-python",
   "name": "python",
   "nbconvert_exporter": "python",
   "pygments_lexer": "ipython3",
   "version": "3.10.9"
  }
 },
 "nbformat": 4,
 "nbformat_minor": 5
}
