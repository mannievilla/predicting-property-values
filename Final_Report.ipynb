{
 "cells": [
  {
   "cell_type": "markdown",
   "id": "premier-milan",
   "metadata": {},
   "source": [
    "# Predicting Home Values\n"
   ]
  },
  {
   "cell_type": "markdown",
   "id": "04afb41e",
   "metadata": {},
   "source": [
    "# Goals\n",
    "* Discover drivers that have a string relationship to predict values.\n",
    "* Use drivers to develop a machine learning model to make accurate predictions. \n",
    "* Home values will be compared to actual home values. \n",
    "* This information could be used to better understand changing markets."
   ]
  },
  {
   "cell_type": "markdown",
   "id": "going-assembly",
   "metadata": {},
   "source": [
    "## Imports"
   ]
  },
  {
   "cell_type": "code",
   "execution_count": 1,
   "id": "divided-poster",
   "metadata": {},
   "outputs": [],
   "source": [
    "# importing the necessary libraries to run the code\n",
    "from env import get_db_url\n",
    "import wrangle\n",
    "import seaborn as sns\n",
    "import matplotlib.pyplot as plt\n",
    "import pandas as pd\n",
    "import scipy.stats as stats\n",
    "\n",
    "\n",
    "from explore import combo_bed_bath_1M, bed_bath_count_over_1M, relplot_var, one_two_bedrooms\n",
    "# from explore import monthly_v_churn, hyp_month_v_churn, t_test_monthly_churn, chi2_payment_churn\n",
    "\n",
    "# from modeling import model_prep_data, model_decision_tree, model_knn\n",
    "# from modeling import model_random_forest, model_log, model_knn_test\n",
    "\n",
    "import warnings\n",
    "warnings.filterwarnings(\"ignore\")"
   ]
  },
  {
   "cell_type": "markdown",
   "id": "criminal-glory",
   "metadata": {},
   "source": [
    "## Acquire\n",
    "\n",
    "* Aquired the data from CodeUp database\n",
    "* Data size ---- rows and --- columns.\n",
    "* Each obsevation represent the sale of a property\n",
    "* Each column reperesents a feature or data point of that sale"
   ]
  },
  {
   "cell_type": "markdown",
   "id": "impossible-bible",
   "metadata": {},
   "source": [
    "## Prepare\n",
    "\n",
    "* Removed columns that did not contain useful information\n",
    "* Checked for nulls in the data \n",
    "* Checked that column data types were appropriate\n",
    "* Split data into train, validate and test (approx. --/--/--)\n",
    "* Outliers have not been removed for this iteration of the project"
   ]
  },
  {
   "cell_type": "code",
   "execution_count": 2,
   "id": "186b2dfe",
   "metadata": {},
   "outputs": [],
   "source": [
    "# used my wrangle function that acquires, preps and cleans the data\n",
    "df = wrangle.wrangle_zillow()\n",
    "\n",
    "# splits data train, validate, test\n",
    "train, validate, test = wrangle.split_clean_zillow()"
   ]
  },
  {
   "cell_type": "markdown",
   "id": "0d9f6680",
   "metadata": {},
   "source": [
    "# Data At a Glance"
   ]
  },
  {
   "cell_type": "code",
   "execution_count": 3,
   "id": "2455066e",
   "metadata": {
    "scrolled": true
   },
   "outputs": [
    {
     "data": {
      "text/html": [
       "<div>\n",
       "<style scoped>\n",
       "    .dataframe tbody tr th:only-of-type {\n",
       "        vertical-align: middle;\n",
       "    }\n",
       "\n",
       "    .dataframe tbody tr th {\n",
       "        vertical-align: top;\n",
       "    }\n",
       "\n",
       "    .dataframe thead th {\n",
       "        text-align: right;\n",
       "    }\n",
       "</style>\n",
       "<table border=\"1\" class=\"dataframe\">\n",
       "  <thead>\n",
       "    <tr style=\"text-align: right;\">\n",
       "      <th></th>\n",
       "      <th>bathrooms</th>\n",
       "      <th>bedrooms</th>\n",
       "      <th>sqft</th>\n",
       "      <th>fips</th>\n",
       "      <th>tax_value</th>\n",
       "      <th>zip_code</th>\n",
       "    </tr>\n",
       "  </thead>\n",
       "  <tbody>\n",
       "    <tr>\n",
       "      <th>30707</th>\n",
       "      <td>3.0</td>\n",
       "      <td>4.0</td>\n",
       "      <td>1965.0</td>\n",
       "      <td>6037.0</td>\n",
       "      <td>194803.0</td>\n",
       "      <td>97330.0</td>\n",
       "    </tr>\n",
       "    <tr>\n",
       "      <th>20167</th>\n",
       "      <td>1.5</td>\n",
       "      <td>3.0</td>\n",
       "      <td>1363.0</td>\n",
       "      <td>6059.0</td>\n",
       "      <td>338024.0</td>\n",
       "      <td>97063.0</td>\n",
       "    </tr>\n",
       "    <tr>\n",
       "      <th>24162</th>\n",
       "      <td>2.0</td>\n",
       "      <td>3.0</td>\n",
       "      <td>1262.0</td>\n",
       "      <td>6037.0</td>\n",
       "      <td>55863.0</td>\n",
       "      <td>96361.0</td>\n",
       "    </tr>\n",
       "    <tr>\n",
       "      <th>30921</th>\n",
       "      <td>2.0</td>\n",
       "      <td>3.0</td>\n",
       "      <td>1921.0</td>\n",
       "      <td>6037.0</td>\n",
       "      <td>700112.0</td>\n",
       "      <td>96387.0</td>\n",
       "    </tr>\n",
       "    <tr>\n",
       "      <th>49586</th>\n",
       "      <td>4.0</td>\n",
       "      <td>6.0</td>\n",
       "      <td>3174.0</td>\n",
       "      <td>6037.0</td>\n",
       "      <td>885972.0</td>\n",
       "      <td>96517.0</td>\n",
       "    </tr>\n",
       "  </tbody>\n",
       "</table>\n",
       "</div>"
      ],
      "text/plain": [
       "       bathrooms  bedrooms    sqft    fips  tax_value  zip_code\n",
       "30707        3.0       4.0  1965.0  6037.0   194803.0   97330.0\n",
       "20167        1.5       3.0  1363.0  6059.0   338024.0   97063.0\n",
       "24162        2.0       3.0  1262.0  6037.0    55863.0   96361.0\n",
       "30921        2.0       3.0  1921.0  6037.0   700112.0   96387.0\n",
       "49586        4.0       6.0  3174.0  6037.0   885972.0   96517.0"
      ]
     },
     "execution_count": 3,
     "metadata": {},
     "output_type": "execute_result"
    }
   ],
   "source": [
    "train.head()"
   ]
  },
  {
   "cell_type": "code",
   "execution_count": 4,
   "id": "576a9acb",
   "metadata": {},
   "outputs": [
    {
     "data": {
      "text/html": [
       "<div>\n",
       "<style scoped>\n",
       "    .dataframe tbody tr th:only-of-type {\n",
       "        vertical-align: middle;\n",
       "    }\n",
       "\n",
       "    .dataframe tbody tr th {\n",
       "        vertical-align: top;\n",
       "    }\n",
       "\n",
       "    .dataframe thead th {\n",
       "        text-align: right;\n",
       "    }\n",
       "</style>\n",
       "<table border=\"1\" class=\"dataframe\">\n",
       "  <thead>\n",
       "    <tr style=\"text-align: right;\">\n",
       "      <th></th>\n",
       "      <th>bathrooms</th>\n",
       "      <th>bedrooms</th>\n",
       "      <th>sqft</th>\n",
       "      <th>fips</th>\n",
       "      <th>tax_value</th>\n",
       "      <th>zip_code</th>\n",
       "    </tr>\n",
       "  </thead>\n",
       "  <tbody>\n",
       "    <tr>\n",
       "      <th>count</th>\n",
       "      <td>31164.000000</td>\n",
       "      <td>31164.000000</td>\n",
       "      <td>31164.000000</td>\n",
       "      <td>31164.000000</td>\n",
       "      <td>3.116400e+04</td>\n",
       "      <td>31164.000000</td>\n",
       "    </tr>\n",
       "    <tr>\n",
       "      <th>mean</th>\n",
       "      <td>2.287848</td>\n",
       "      <td>3.291266</td>\n",
       "      <td>1905.043897</td>\n",
       "      <td>6049.099410</td>\n",
       "      <td>5.169842e+05</td>\n",
       "      <td>96643.405468</td>\n",
       "    </tr>\n",
       "    <tr>\n",
       "      <th>std</th>\n",
       "      <td>0.981549</td>\n",
       "      <td>0.908149</td>\n",
       "      <td>942.390865</td>\n",
       "      <td>21.052046</td>\n",
       "      <td>6.602886e+05</td>\n",
       "      <td>4874.109337</td>\n",
       "    </tr>\n",
       "    <tr>\n",
       "      <th>min</th>\n",
       "      <td>0.000000</td>\n",
       "      <td>0.000000</td>\n",
       "      <td>128.000000</td>\n",
       "      <td>6037.000000</td>\n",
       "      <td>3.254000e+03</td>\n",
       "      <td>95982.000000</td>\n",
       "    </tr>\n",
       "    <tr>\n",
       "      <th>25%</th>\n",
       "      <td>2.000000</td>\n",
       "      <td>3.000000</td>\n",
       "      <td>1268.000000</td>\n",
       "      <td>6037.000000</td>\n",
       "      <td>1.939980e+05</td>\n",
       "      <td>96208.000000</td>\n",
       "    </tr>\n",
       "    <tr>\n",
       "      <th>50%</th>\n",
       "      <td>2.000000</td>\n",
       "      <td>3.000000</td>\n",
       "      <td>1656.000000</td>\n",
       "      <td>6037.000000</td>\n",
       "      <td>3.727900e+05</td>\n",
       "      <td>96412.000000</td>\n",
       "    </tr>\n",
       "    <tr>\n",
       "      <th>75%</th>\n",
       "      <td>3.000000</td>\n",
       "      <td>4.000000</td>\n",
       "      <td>2298.000000</td>\n",
       "      <td>6059.000000</td>\n",
       "      <td>6.127742e+05</td>\n",
       "      <td>96995.000000</td>\n",
       "    </tr>\n",
       "    <tr>\n",
       "      <th>max</th>\n",
       "      <td>7.500000</td>\n",
       "      <td>6.000000</td>\n",
       "      <td>12056.000000</td>\n",
       "      <td>6111.000000</td>\n",
       "      <td>2.538125e+07</td>\n",
       "      <td>399675.000000</td>\n",
       "    </tr>\n",
       "  </tbody>\n",
       "</table>\n",
       "</div>"
      ],
      "text/plain": [
       "          bathrooms      bedrooms          sqft          fips     tax_value  \\\n",
       "count  31164.000000  31164.000000  31164.000000  31164.000000  3.116400e+04   \n",
       "mean       2.287848      3.291266   1905.043897   6049.099410  5.169842e+05   \n",
       "std        0.981549      0.908149    942.390865     21.052046  6.602886e+05   \n",
       "min        0.000000      0.000000    128.000000   6037.000000  3.254000e+03   \n",
       "25%        2.000000      3.000000   1268.000000   6037.000000  1.939980e+05   \n",
       "50%        2.000000      3.000000   1656.000000   6037.000000  3.727900e+05   \n",
       "75%        3.000000      4.000000   2298.000000   6059.000000  6.127742e+05   \n",
       "max        7.500000      6.000000  12056.000000   6111.000000  2.538125e+07   \n",
       "\n",
       "            zip_code  \n",
       "count   31164.000000  \n",
       "mean    96643.405468  \n",
       "std      4874.109337  \n",
       "min     95982.000000  \n",
       "25%     96208.000000  \n",
       "50%     96412.000000  \n",
       "75%     96995.000000  \n",
       "max    399675.000000  "
      ]
     },
     "execution_count": 4,
     "metadata": {},
     "output_type": "execute_result"
    }
   ],
   "source": [
    "train.describe()\n"
   ]
  },
  {
   "cell_type": "markdown",
   "id": "2f5a5b2a",
   "metadata": {},
   "source": [
    "# Explore"
   ]
  },
  {
   "cell_type": "markdown",
   "id": "91b4f05c",
   "metadata": {},
   "source": [
    "## * What combination of Bathrooms and Bedrooms have greater Value"
   ]
  },
  {
   "cell_type": "code",
   "execution_count": 5,
   "id": "5d7fbf1d",
   "metadata": {},
   "outputs": [
    {
     "data": {
      "image/png": "[encoded data removed]",
      "text/plain": [
       "<Figure size 1600x400 with 1 Axes>"
      ]
     },
     "metadata": {},
     "output_type": "display_data"
    }
   ],
   "source": [
    "combo_bed_bath_1M()"
   ]
  },
  {
   "cell_type": "code",
   "execution_count": 6,
   "id": "70abb517",
   "metadata": {},
   "outputs": [],
   "source": [
    "x_list, y_list = bed_bath_count_over_1M()"
   ]
  },
  {
   "cell_type": "code",
   "execution_count": 7,
   "id": "917c2d56",
   "metadata": {},
   "outputs": [
    {
     "data": {
      "text/html": [
       "<div>\n",
       "<style scoped>\n",
       "    .dataframe tbody tr th:only-of-type {\n",
       "        vertical-align: middle;\n",
       "    }\n",
       "\n",
       "    .dataframe tbody tr th {\n",
       "        vertical-align: top;\n",
       "    }\n",
       "\n",
       "    .dataframe thead th {\n",
       "        text-align: right;\n",
       "    }\n",
       "</style>\n",
       "<table border=\"1\" class=\"dataframe\">\n",
       "  <thead>\n",
       "    <tr style=\"text-align: right;\">\n",
       "      <th></th>\n",
       "      <th>count</th>\n",
       "    </tr>\n",
       "    <tr>\n",
       "      <th>0</th>\n",
       "      <th></th>\n",
       "    </tr>\n",
       "  </thead>\n",
       "  <tbody>\n",
       "    <tr>\n",
       "      <th>4.0</th>\n",
       "      <td>8</td>\n",
       "    </tr>\n",
       "    <tr>\n",
       "      <th>6.0</th>\n",
       "      <td>8</td>\n",
       "    </tr>\n",
       "    <tr>\n",
       "      <th>5.0</th>\n",
       "      <td>7</td>\n",
       "    </tr>\n",
       "    <tr>\n",
       "      <th>3.0</th>\n",
       "      <td>6</td>\n",
       "    </tr>\n",
       "    <tr>\n",
       "      <th>2.0</th>\n",
       "      <td>3</td>\n",
       "    </tr>\n",
       "    <tr>\n",
       "      <th>0.0</th>\n",
       "      <td>1</td>\n",
       "    </tr>\n",
       "    <tr>\n",
       "      <th>1.0</th>\n",
       "      <td>1</td>\n",
       "    </tr>\n",
       "  </tbody>\n",
       "</table>\n",
       "</div>"
      ],
      "text/plain": [
       "     count\n",
       "0         \n",
       "4.0      8\n",
       "6.0      8\n",
       "5.0      7\n",
       "3.0      6\n",
       "2.0      3\n",
       "0.0      1\n",
       "1.0      1"
      ]
     },
     "metadata": {},
     "output_type": "display_data"
    },
    {
     "data": {
      "text/html": [
       "<div>\n",
       "<style scoped>\n",
       "    .dataframe tbody tr th:only-of-type {\n",
       "        vertical-align: middle;\n",
       "    }\n",
       "\n",
       "    .dataframe tbody tr th {\n",
       "        vertical-align: top;\n",
       "    }\n",
       "\n",
       "    .dataframe thead th {\n",
       "        text-align: right;\n",
       "    }\n",
       "</style>\n",
       "<table border=\"1\" class=\"dataframe\">\n",
       "  <thead>\n",
       "    <tr style=\"text-align: right;\">\n",
       "      <th></th>\n",
       "      <th>count</th>\n",
       "    </tr>\n",
       "    <tr>\n",
       "      <th>0</th>\n",
       "      <th></th>\n",
       "    </tr>\n",
       "  </thead>\n",
       "  <tbody>\n",
       "    <tr>\n",
       "      <th>5.0</th>\n",
       "      <td>6</td>\n",
       "    </tr>\n",
       "    <tr>\n",
       "      <th>4.5</th>\n",
       "      <td>4</td>\n",
       "    </tr>\n",
       "    <tr>\n",
       "      <th>5.5</th>\n",
       "      <td>4</td>\n",
       "    </tr>\n",
       "    <tr>\n",
       "      <th>6.0</th>\n",
       "      <td>4</td>\n",
       "    </tr>\n",
       "    <tr>\n",
       "      <th>3.5</th>\n",
       "      <td>3</td>\n",
       "    </tr>\n",
       "    <tr>\n",
       "      <th>4.0</th>\n",
       "      <td>3</td>\n",
       "    </tr>\n",
       "    <tr>\n",
       "      <th>6.5</th>\n",
       "      <td>3</td>\n",
       "    </tr>\n",
       "    <tr>\n",
       "      <th>7.0</th>\n",
       "      <td>3</td>\n",
       "    </tr>\n",
       "    <tr>\n",
       "      <th>7.5</th>\n",
       "      <td>3</td>\n",
       "    </tr>\n",
       "    <tr>\n",
       "      <th>3.0</th>\n",
       "      <td>1</td>\n",
       "    </tr>\n",
       "  </tbody>\n",
       "</table>\n",
       "</div>"
      ],
      "text/plain": [
       "     count\n",
       "0         \n",
       "5.0      6\n",
       "4.5      4\n",
       "5.5      4\n",
       "6.0      4\n",
       "3.5      3\n",
       "4.0      3\n",
       "6.5      3\n",
       "7.0      3\n",
       "7.5      3\n",
       "3.0      1"
      ]
     },
     "metadata": {},
     "output_type": "display_data"
    }
   ],
   "source": [
    "display(x_list, y_list)"
   ]
  },
  {
   "cell_type": "markdown",
   "id": "da54cc6b",
   "metadata": {},
   "source": [
    "### Takeaways:"
   ]
  },
  {
   "cell_type": "markdown",
   "id": "c2a87cae",
   "metadata": {},
   "source": [
    "* Certain bedrooms numbers are associated with million dollar home values\n",
    "* Bathrooms don't have the same pattern but rather 4.5 - 6 bathrooms are associated with million dollar homes"
   ]
  },
  {
   "cell_type": "markdown",
   "id": "cb44470c",
   "metadata": {},
   "source": [
    "## * What Square footage has the greater impact on Value?\n",
    "\n"
   ]
  },
  {
   "cell_type": "code",
   "execution_count": 8,
   "id": "2914cbe6",
   "metadata": {
    "scrolled": false
   },
   "outputs": [
    {
     "data": {
      "text/plain": [
       "<Figure size 2000x900 with 0 Axes>"
      ]
     },
     "metadata": {},
     "output_type": "display_data"
    },
    {
     "data": {
      "image/png": "[encoded data removed]",
      "text/plain": [
       "<Figure size 500x500 with 1 Axes>"
      ]
     },
     "metadata": {},
     "output_type": "display_data"
    }
   ],
   "source": [
    "relplot_var(train)"
   ]
  },
  {
   "cell_type": "markdown",
   "id": "36321da9",
   "metadata": {},
   "source": [
    "### Takeaways:\n",
    "* Most churn happens with the month-to-month customer\n",
    "* Customers with the most retention are on two year plans\n",
    "* The month most churn happens is the first month of contract with month to month customers "
   ]
  },
  {
   "cell_type": "markdown",
   "id": "c1ccceab",
   "metadata": {},
   "source": [
    "---"
   ]
  },
  {
   "cell_type": "markdown",
   "id": "dbb6388b",
   "metadata": {},
   "source": [
    "# Evaluation Question:\n",
    "    \n",
    "## * Is properties with more square footages significantly have more value?\n",
    "### * I will preform a Pearson-R to show square footage has no carrelationn to Value"
   ]
  },
  {
   "cell_type": "markdown",
   "id": "b7f2d9ea",
   "metadata": {},
   "source": [
    "I will use a confidence interval of 95%\\\n",
    "The resulting alpha is .05"
   ]
  },
  {
   "cell_type": "markdown",
   "id": "d7ad7886",
   "metadata": {},
   "source": [
    "## Hypothesis:\n",
    "H-o = There is no linear correlation betweeen Square Footage and Home Value.\\\n",
    "H-a = There is a linear correlation betweeen Square Footage and Home Value"
   ]
  },
  {
   "cell_type": "code",
   "execution_count": 9,
   "id": "9831fdee",
   "metadata": {},
   "outputs": [
    {
     "data": {
      "text/plain": [
       "PearsonRResult(statistic=0.5814200017157635, pvalue=0.0)"
      ]
     },
     "execution_count": 9,
     "metadata": {},
     "output_type": "execute_result"
    }
   ],
   "source": [
    "test_results = stats.pearsonr(train.sqft, train.tax_value)\n",
    "test_results\n"
   ]
  },
  {
   "cell_type": "code",
   "execution_count": 11,
   "id": "a6035cb5",
   "metadata": {},
   "outputs": [
    {
     "name": "stdout",
     "output_type": "stream",
     "text": [
      "p is 0.0000000000\n",
      "The p-value is near zero. Therefore, we have evidence to \n",
      "support that the square footage has a relation with home value. Based on this, \n",
      "I believe that using \"tax_value\" will provide a moderate improvement in the model's accuracy.\n"
     ]
    }
   ],
   "source": [
    "r, p = test_results\n",
    "\n",
    "print(f'p is {p:.10f}')\n",
    "print(f'''The p-value is near zero. Therefore, we have evidence to \n",
    "support that the square footage has a relation with home value. Based on this, \n",
    "I believe that using \"tax_value\" will provide a moderate improvement in the model's accuracy.''')\n"
   ]
  },
  {
   "cell_type": "markdown",
   "id": "82dd971a",
   "metadata": {},
   "source": [
    "## * Is having 1 bathroom worse for property value than having 2 bedrooms?"
   ]
  },
  {
   "cell_type": "code",
   "execution_count": 9,
   "id": "f78e93ad",
   "metadata": {
    "scrolled": false
   },
   "outputs": [
    {
     "data": {
      "image/png": "[encoded data removed]",
      "text/plain": [
       "<Figure size 1000x500 with 2 Axes>"
      ]
     },
     "metadata": {},
     "output_type": "display_data"
    }
   ],
   "source": [
    "one_two_bedrooms()"
   ]
  },
  {
   "cell_type": "markdown",
   "id": "ff5a6770",
   "metadata": {},
   "source": [
    "### Takeaways:\n",
    "* There were a total of 4964 one Bedroom properties\n",
    "* There were a total of 362 two Bedroom properties\n",
    "* The average One Bedroom is \\$35,3655\n",
    "* The average Two Bedroom is \\$34,1589"
   ]
  },
  {
   "cell_type": "markdown",
   "id": "dc0188db",
   "metadata": {},
   "source": [
    "# Evaluation Question:\n",
    "## * Are charges of customers who churn significantly greater than who do not churn?\n",
    "\n",
    "#### *  I will preform a T-test to show if that customers who spend more monthly have a greater churn rate\n",
    "\n",
    "---\n",
    "+ I will use a confidence interval of 95%\n",
    "+ The resulting alpha is .05"
   ]
  },
  {
   "cell_type": "markdown",
   "id": "f01278f3",
   "metadata": {},
   "source": [
    "### Hypothesis:\n",
    "\n",
    "* H-o = Charges of customers is equal or less than who don't churn.\n",
    "* H-a = Charges of customers is greater than who don't churn."
   ]
  },
  {
   "cell_type": "code",
   "execution_count": null,
   "id": "32eb7f91",
   "metadata": {
    "scrolled": false
   },
   "outputs": [],
   "source": [
    "hyp_month_v_churn()"
   ]
  },
  {
   "cell_type": "code",
   "execution_count": null,
   "id": "367ba383",
   "metadata": {},
   "outputs": [],
   "source": [
    "t, p = t_test_monthly_churn()\n",
    "print(f'p = {p}')\n",
    "print(f't = {t}')"
   ]
  },
  {
   "cell_type": "markdown",
   "id": "f4ed6077",
   "metadata": {},
   "source": [
    "#### The p-value is less than the alpha. Therefore, we have evidence to support that the mean charge difference of customer who pay more mothly is significantly different from the mean charge difference of customer who pay less mothly. Based on this, and the ~\\$15 difference in medians, observed in the train data, I believe that using \"monthly_charges\" during modeling will provide a moderate improvement in the model's accuracy."
   ]
  },
  {
   "cell_type": "markdown",
   "id": "minus-tulsa",
   "metadata": {},
   "source": [
    "## Modeling"
   ]
  },
  {
   "cell_type": "markdown",
   "id": "2d6fd7da",
   "metadata": {},
   "source": [
    "* Customers who do not churn makeup 73% of the data\n",
    "* By assuming non-churner a 73% baseline accuracy is achieved\n",
    "* I will compare how each model runs using various hyperparameters\n",
    "* I will compare the train with validate data\n",
    "* I will use accuracy as my evaluation metric\n",
    "* The best preforming model will be used on my test data"
   ]
  },
  {
   "cell_type": "markdown",
   "id": "a1ab86e0",
   "metadata": {},
   "source": [
    "### Prep Data"
   ]
  },
  {
   "cell_type": "code",
   "execution_count": null,
   "id": "35208a86",
   "metadata": {},
   "outputs": [],
   "source": [
    "X_train, y_train, X_validate, y_validate, X_test, y_test = model_prep_data()"
   ]
  },
  {
   "cell_type": "markdown",
   "id": "e583eb1e",
   "metadata": {},
   "source": [
    "# -----"
   ]
  },
  {
   "cell_type": "code",
   "execution_count": null,
   "id": "2db92bec",
   "metadata": {
    "scrolled": true
   },
   "outputs": [],
   "source": [
    "model_decision_tree(X_train, X_validate, y_train, y_validate)"
   ]
  },
  {
   "cell_type": "markdown",
   "id": "86e600b7",
   "metadata": {},
   "source": [
    "* Decision Tree accuracy is 3 points better than baseline\n"
   ]
  },
  {
   "cell_type": "markdown",
   "id": "b78dd05d",
   "metadata": {},
   "source": [
    "## ---- model"
   ]
  },
  {
   "cell_type": "code",
   "execution_count": null,
   "id": "182a85d7",
   "metadata": {},
   "outputs": [],
   "source": [
    "model_knn(X_train, X_validate, y_train, y_validate)"
   ]
  },
  {
   "cell_type": "markdown",
   "id": "8d27c5c9",
   "metadata": {},
   "source": [
    "* KNN accuracy is 2 points better than baseline\n"
   ]
  },
  {
   "cell_type": "markdown",
   "id": "294ec3ca",
   "metadata": {},
   "source": [
    "# ----- Model"
   ]
  },
  {
   "cell_type": "code",
   "execution_count": null,
   "id": "1600dd05",
   "metadata": {},
   "outputs": [],
   "source": [
    "model_random_forest(X_train, X_validate, y_train, y_validate)"
   ]
  },
  {
   "cell_type": "markdown",
   "id": "100f8a94",
   "metadata": {},
   "source": [
    "* Random Forest accuracy is 3 points better than baseline\n"
   ]
  },
  {
   "cell_type": "markdown",
   "id": "eaab1758",
   "metadata": {},
   "source": [
    "# ------ Model"
   ]
  },
  {
   "cell_type": "code",
   "execution_count": null,
   "id": "49691d39",
   "metadata": {},
   "outputs": [],
   "source": [
    "model_log(X_train, X_validate, y_train, y_validate)"
   ]
  },
  {
   "cell_type": "markdown",
   "id": "2886291c",
   "metadata": {},
   "source": [
    "* Log Regression accuracy is 35 points worse than baseline\n"
   ]
  },
  {
   "cell_type": "markdown",
   "id": "3de6fdbd",
   "metadata": {},
   "source": [
    "# Comparing Summary\n",
    "* Decision Tree, Random Forest, and KKN models all performed similar to each other\n",
    "* The KNN model had a slighlty lower accuracy than the three best models but seemed uniform mostly with results.\n",
    "* The Logistic Regression model preformed poorly. I may need to revisit and see where mistakes may have been made."
   ]
  },
  {
   "cell_type": "markdown",
   "id": "emotional-purchase",
   "metadata": {},
   "source": [
    "* The KNN Model was selected to run the test data. This model also was 2 points better than baseline but seemed to be most stable when charting the resukts."
   ]
  },
  {
   "cell_type": "markdown",
   "id": "regulated-fellowship",
   "metadata": {},
   "source": [
    "# KNN Model Testing"
   ]
  },
  {
   "cell_type": "code",
   "execution_count": null,
   "id": "optical-quilt",
   "metadata": {
    "scrolled": true
   },
   "outputs": [],
   "source": [
    "model_knn_test(X_train, X_test, y_train, y_test)"
   ]
  },
  {
   "cell_type": "markdown",
   "id": "7454dbfb",
   "metadata": {},
   "source": [
    "\n",
    "## Modeling Summary"
   ]
  },
  {
   "cell_type": "markdown",
   "id": "motivated-recycling",
   "metadata": {},
   "source": [
    "* Decision Tree, Random Forest, and KKN models all performed similar to each other\n",
    "* The KNN model had a slighlty lower accuracy than the three best models but seemed uniform mostly with results.\n",
    "* Knn Model preformed slighlty better than baseline"
   ]
  },
  {
   "cell_type": "markdown",
   "id": "tutorial-twelve",
   "metadata": {},
   "source": [
    "# Conclusion\n",
    "\n",
    "## Exploration Summary\n",
    "* Customers with Fiber Optics have more churn than DSL.\n",
    "* Encouraging customers to be on automatic payment plan will seems to reduce churn.\n",
    "* 643 manual check writers churned which is a 45% churn rate for all payment types.\n",
    "* When the monthly charges reached approximate \\$70 the churn rate rised.\n",
    "* The median monthly payment for customers who churns is \\$79.70\n",
    "\n",
    "\n",
    "## Modeling\n",
    "* The final model failed to significantly outperform the baseline. Possible reasons include:\n",
    "\n",
    "“payment_type” and “contract_type” may not have had meaningful relation to who will churn.\n",
    "Since monthly charges\" seems to be a larger contributor to churn, adding more of the services to see which service may be contributing to churn. \n",
    "\n",
    "## Recommendations\n",
    "* This may be simple enough but have a column for reason for caneling service. Helpful to pinpoint issues and improve service.\n",
    "\n",
    "## Next Steps\n",
    "* Explore the relation of Fiber Optics to churn. Services like tech support or streaming services could also be explored."
   ]
  },
  {
   "cell_type": "code",
   "execution_count": null,
   "id": "c13bb80e",
   "metadata": {},
   "outputs": [],
   "source": [
    "has_churned = [1, 1, 0, 0, 1, 0, 0, 0, 0, 0, 0]\n",
    "df = pd.DataFrame(has_churned, columns=['churned'])"
   ]
  },
  {
   "cell_type": "code",
   "execution_count": null,
   "id": "2a1986e5",
   "metadata": {
    "scrolled": true
   },
   "outputs": [],
   "source": [
    "df"
   ]
  },
  {
   "cell_type": "code",
   "execution_count": null,
   "id": "54f1b393",
   "metadata": {},
   "outputs": [],
   "source": [
    "baseline = [0, 0, 0, 0, 0, 0, 0, 0, 0, 0, 0]\n",
    "df1 = pd.DataFrame(baseline, columns=['baseline'])\n",
    "df1"
   ]
  },
  {
   "cell_type": "code",
   "execution_count": null,
   "id": "7bb513e4",
   "metadata": {
    "scrolled": true
   },
   "outputs": [],
   "source": [
    "from sklearn.metrics import confusion_matrix\n",
    "\n",
    "true_labels = [1, 1, 0, 0, 1, 0, 0, 0, 0, 0, 0]\n",
    "predicted_labels = [0, 0, 0, 0, 0, 0, 0, 0, 0, 0, 0]\n",
    "\n",
    "cm = confusion_matrix(true_labels, predicted_labels)\n",
    "print(cm.T)\n"
   ]
  },
  {
   "cell_type": "code",
   "execution_count": null,
   "id": "24f6cbdf",
   "metadata": {},
   "outputs": [],
   "source": [
    "from sklearn.metrics import confusion_matrix\n",
    "\n",
    "true_labels = [1, 1, 0, 0, 1, 0, 0, 0, 0, 0, 0]\n",
    "predicted_labels = [0, 0, 0, 0, 0, 0, 0, 0, 0, 0, 0]\n",
    "\n",
    "cm = confusion_matrix( predicted_labels, true_labels)\n",
    "print(cm)"
   ]
  },
  {
   "cell_type": "code",
   "execution_count": null,
   "id": "58ea80fa",
   "metadata": {},
   "outputs": [],
   "source": []
  }
 ],
 "metadata": {
  "kernelspec": {
   "display_name": "Python 3 (ipykernel)",
   "language": "python",
   "name": "python3"
  },
  "language_info": {
   "codemirror_mode": {
    "name": "ipython",
    "version": 3
   },
   "file_extension": ".py",
   "mimetype": "text/x-python",
   "name": "python",
   "nbconvert_exporter": "python",
   "pygments_lexer": "ipython3",
   "version": "3.10.9"
  }
 },
 "nbformat": 4,
 "nbformat_minor": 5
}
